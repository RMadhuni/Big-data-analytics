{
  "nbformat": 4,
  "nbformat_minor": 0,
  "metadata": {
    "colab": {
      "provenance": [],
      "authorship_tag": "ABX9TyMBcBg7noMVzXBY2vUlwbOT",
      "include_colab_link": true
    },
    "kernelspec": {
      "name": "python3",
      "display_name": "Python 3"
    },
    "language_info": {
      "name": "python"
    }
  },
  "cells": [
    {
      "cell_type": "markdown",
      "metadata": {
        "id": "view-in-github",
        "colab_type": "text"
      },
      "source": [
        "<a href=\"https://colab.research.google.com/github/RMadhuni/Big-data-analytics/blob/main/BDA.ipynb\" target=\"_parent\"><img src=\"https://colab.research.google.com/assets/colab-badge.svg\" alt=\"Open In Colab\"/></a>"
      ]
    },
    {
      "cell_type": "code",
      "source": [
        "import pandas as pd\n",
        "import numpy as np\n",
        "import matplotlib.pyplot as plt\n",
        "import seaborn as sns\n",
        "import warnings\n",
        "from sklearn.exceptions import DataConversionWarning\n",
        "from sklearn.pipeline import Pipeline\n",
        "from sklearn.compose import ColumnTransformer\n",
        "from sklearn.preprocessing import StandardScaler, OneHotEncoder, LabelEncoder\n",
        "from sklearn.ensemble import RandomForestClassifier\n",
        "from sklearn.metrics import roc_auc_score, classification_report\n",
        "# Import plot_confusion_matrix from the correct module\n",
        "from sklearn.metrics import ConfusionMatrixDisplay # This line has been changed"
      ],
      "metadata": {
        "id": "BADSdEpeTSLA"
      },
      "execution_count": null,
      "outputs": []
    },
    {
      "cell_type": "code",
      "source": [
        "warnings.filterwarnings(action='ignore', category=DataConversionWarning)"
      ],
      "metadata": {
        "id": "gUbqg_9yTlpv"
      },
      "execution_count": null,
      "outputs": []
    },
    {
      "cell_type": "code",
      "source": [
        "train = pd.read_csv(\"/content/train.csv\")\n",
        "test = pd.read_csv(\"/content/test.csv\")"
      ],
      "metadata": {
        "id": "gDfR_AzFTpuB"
      },
      "execution_count": null,
      "outputs": []
    },
    {
      "cell_type": "code",
      "source": [
        "# Drop ID column if it exists\n",
        "train.drop(columns=['id'], errors='ignore', inplace=True)\n",
        "test.drop(columns=['id'], errors='ignore', inplace=True)\n"
      ],
      "metadata": {
        "id": "DifHvJHvTriD"
      },
      "execution_count": null,
      "outputs": []
    },
    {
      "cell_type": "code",
      "source": [
        "# Define Features and Target\n",
        "features = ['Gender', 'Customer Type', 'Age', 'Type of Travel', 'Class',\n",
        "            'Flight Distance', 'Inflight wifi service',\n",
        "            'Departure/Arrival time convenient', 'Ease of Online booking',\n",
        "            'Gate location', 'Food and drink', 'Online boarding', 'Seat comfort',\n",
        "            'Inflight entertainment', 'On-board service', 'Leg room service',\n",
        "            'Baggage handling', 'Checkin service', 'Inflight service',\n",
        "            'Cleanliness', 'Departure Delay in Minutes', 'Arrival Delay in Minutes']\n",
        "\n",
        "target = ['satisfaction']"
      ],
      "metadata": {
        "id": "vASQTs7dTtPb"
      },
      "execution_count": null,
      "outputs": []
    },
    {
      "cell_type": "code",
      "source": [
        "X_train = train[features]\n",
        "y_train = train[target]\n",
        "X_test = test[features]\n",
        "y_test = test[target]\n"
      ],
      "metadata": {
        "id": "29vrmSK4UfHi"
      },
      "execution_count": null,
      "outputs": []
    },
    {
      "cell_type": "code",
      "source": [
        "# Encode target labels\n",
        "le = LabelEncoder()\n",
        "y_train = le.fit_transform(y_train)\n",
        "y_test = le.transform(y_test)"
      ],
      "metadata": {
        "id": "j9EgcbMHUir5"
      },
      "execution_count": null,
      "outputs": []
    },
    {
      "cell_type": "code",
      "source": [
        "\n",
        "# Identify categorical columns\n",
        "categorical_cols = X_train.select_dtypes(include=['object', 'category']).columns.tolist()\n",
        "numerical_cols = [col for col in X_train.columns if col not in categorical_cols]"
      ],
      "metadata": {
        "id": "62z1ijY_Ukat"
      },
      "execution_count": null,
      "outputs": []
    },
    {
      "cell_type": "code",
      "source": [
        "# Define preprocessing pipeline\n",
        "preprocessor = ColumnTransformer(\n",
        "    transformers=[\n",
        "        ('num', StandardScaler(), numerical_cols),\n",
        "        ('cat', OneHotEncoder(handle_unknown='ignore'), categorical_cols)\n",
        "    ]\n",
        ")\n"
      ],
      "metadata": {
        "id": "GVVq1os9Ul9_"
      },
      "execution_count": null,
      "outputs": []
    },
    {
      "cell_type": "code",
      "source": [
        "# Define training pipeline\n",
        "model_rf = Pipeline(steps=[\n",
        "    ('preprocessor', preprocessor),\n",
        "    ('classifier', RandomForestClassifier(\n",
        "        max_depth=25,\n",
        "        min_samples_leaf=1,\n",
        "        min_samples_split=2,\n",
        "        n_estimators=1200,\n",
        "        random_state=42\n",
        "    ))\n",
        "])\n"
      ],
      "metadata": {
        "id": "n-tvfD_eUny9"
      },
      "execution_count": null,
      "outputs": []
    },
    {
      "cell_type": "code",
      "source": [
        "\n",
        "# Model runner function\n",
        "def run_model(model, X_train, y_train, X_test, y_test, verbose=True):\n",
        "    model.fit(X_train, y_train)\n",
        "    y_pred = model.predict(X_test)\n",
        "    roc_auc = roc_auc_score(y_test, y_pred)\n",
        "    print(\"ROC_AUC = {}\".format(roc_auc))\n",
        "    print(classification_report(y_test, y_pred, digits=5))\n",
        "    plot_confusion_matrix(model, X_test, y_test, cmap=plt.cm.Blues, normalize='all')\n",
        "    plt.show()\n",
        "    return model, roc_auc"
      ],
      "metadata": {
        "id": "IyWQ0de8E-ip"
      },
      "execution_count": null,
      "outputs": []
    },
    {
      "cell_type": "code",
      "source": [
        "# Function to train and evaluate model\n",
        "def run_model(model, X_train, y_train, X_test, y_test, verbose=True):\n",
        "    model.fit(X_train, y_train)\n",
        "    y_pred = model.predict(X_test)\n",
        "    roc_auc = roc_auc_score(y_test, y_pred)\n",
        "\n",
        "    print(\"\\n✅ Model Evaluation Results\")\n",
        "    print(\"ROC_AUC Score:\", roc_auc)\n",
        "    print(\"\\nClassification Report:\\n\", classification_report(y_test, y_pred, digits=5))\n",
        "\n",
        "    # Use ConfusionMatrixDisplay instead of plot_confusion_matrix\n",
        "    ConfusionMatrixDisplay.from_estimator(model, X_test, y_test, cmap=plt.cm.Blues, normalize='all')\n",
        "    # or ConfusionMatrixDisplay.from_predictions(y_test, y_pred, cmap=plt.cm.Blues, normalize='all')\n",
        "\n",
        "    plt.title(\"Normalized Confusion Matrix\")\n",
        "    plt.show()\n",
        "\n",
        "    return model, roc_auc\n",
        "\n",
        "# Run the model and print output\n",
        "model_rf, roc_auc_rf = run_model(model_rf, X_train, y_train, X_test, y_test)"
      ],
      "metadata": {
        "colab": {
          "base_uri": "https://localhost:8080/",
          "height": 715
        },
        "id": "4opGROIoHEnE",
        "outputId": "a67ea5da-6925-4ca5-f76f-a118901d6403"
      },
      "execution_count": null,
      "outputs": [
        {
          "output_type": "stream",
          "name": "stdout",
          "text": [
            "\n",
            "✅ Model Evaluation Results\n",
            "ROC_AUC Score: 0.9610875568559365\n",
            "\n",
            "Classification Report:\n",
            "               precision    recall  f1-score   support\n",
            "\n",
            "           0    0.95655   0.97900   0.96765     14573\n",
            "           1    0.97234   0.94317   0.95753     11403\n",
            "\n",
            "    accuracy                        0.96327     25976\n",
            "   macro avg    0.96444   0.96109   0.96259     25976\n",
            "weighted avg    0.96348   0.96327   0.96321     25976\n",
            "\n"
          ]
        },
        {
          "output_type": "display_data",
          "data": {
            "text/plain": [
              "<Figure size 640x480 with 2 Axes>"
            ],
            "image/png": "[encoded data removed]"
          },
          "metadata": {}
        }
      ]
    },
    {
      "cell_type": "code",
      "source": [],
      "metadata": {
        "id": "q7ganr-sdy7N"
      },
      "execution_count": null,
      "outputs": []
    }
  ]
}